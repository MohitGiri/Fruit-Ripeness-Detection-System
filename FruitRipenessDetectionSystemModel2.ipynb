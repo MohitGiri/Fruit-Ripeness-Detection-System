{
 "cells": [
  {
   "cell_type": "code",
   "execution_count": 2,
   "id": "intermediate-dinner",
   "metadata": {},
   "outputs": [],
   "source": [
    "import numpy as np\n",
    "import tensorflow as tf\n",
    "from tensorflow import keras\n",
    "from tensorflow.keras.models import Sequential\n",
    "from tensorflow.keras.layers import Activation, Dense, Flatten, BatchNormalization, Conv2D, MaxPool2D, Dropout\n",
    "from tensorflow.keras.optimizers import Adam, RMSprop\n",
    "from tensorflow.keras.metrics import categorical_crossentropy\n",
    "from tensorflow.keras.preprocessing.image import ImageDataGenerator\n",
    "from sklearn.metrics import confusion_matrix\n",
    "import itertools\n",
    "import os\n",
    "import shutil\n",
    "import random\n",
    "import glob\n",
    "import matplotlib.pyplot as plt\n",
    "import warnings\n",
    "warnings.simplefilter(action='ignore', category=FutureWarning)\n",
    "%matplotlib inline"
   ]
  },
  {
   "cell_type": "code",
   "execution_count": 3,
   "id": "biological-stanley",
   "metadata": {},
   "outputs": [
    {
     "name": "stdout",
     "output_type": "stream",
     "text": [
      "Number of train fresh apple samples :  395\n",
      "Number of train fresh banana samples :  381\n",
      "Number of train fresh orange samples :  388\n",
      "Number of train rotten apple samples :  601\n",
      "Number of train rotten banana samples :  530\n",
      "Number of train rotten orange samples :  403\n",
      "Number of test fresh apple samples :  75\n",
      "Number of test fresh banana samples :  75\n",
      "Number of test fresh orange samples :  75\n",
      "Number of test rotten apple samples :  75\n",
      "Number of test rotten banana samples :  75\n",
      "Number of test rotten orange samples :  75\n",
      "Number of valid fresh apple samples :  100\n",
      "Number of valid fresh banana samples :  100\n",
      "Number of valid fresh orange samples :  100\n",
      "Number of valid rotten apple samples :  100\n",
      "Number of valid rotten banana samples :  100\n",
      "Number of valid rotten orange samples :  100\n"
     ]
    }
   ],
   "source": [
    "print(\"Number of train fresh apple samples : \", len(os.listdir('dataset/train/freshapples')))\n",
    "print(\"Number of train fresh banana samples : \", len(os.listdir('dataset/train/freshbanana')))\n",
    "print(\"Number of train fresh orange samples : \", len(os.listdir('dataset/train/freshoranges')))\n",
    "print(\"Number of train rotten apple samples : \", len(os.listdir('dataset/train/rottenapples')))\n",
    "print(\"Number of train rotten banana samples : \", len(os.listdir('dataset/train/rottenbanana')))\n",
    "print(\"Number of train rotten orange samples : \", len(os.listdir('dataset/train/rottenoranges')))\n",
    "\n",
    "print(\"Number of test fresh apple samples : \", len(os.listdir('dataset/test/freshapples')))\n",
    "print(\"Number of test fresh banana samples : \", len(os.listdir('dataset/test/freshbananas')))\n",
    "print(\"Number of test fresh orange samples : \", len(os.listdir('dataset/test/freshoranges')))\n",
    "print(\"Number of test rotten apple samples : \", len(os.listdir('dataset/test/rottenapples')))\n",
    "print(\"Number of test rotten banana samples : \", len(os.listdir('dataset/test/rottenbananas')))\n",
    "print(\"Number of test rotten orange samples : \", len(os.listdir('dataset/test/rottenoranges')))\n",
    "\n",
    "print(\"Number of valid fresh apple samples : \", len(os.listdir('dataset/valid/freshapples')))\n",
    "print(\"Number of valid fresh banana samples : \", len(os.listdir('dataset/valid/freshbananas')))\n",
    "print(\"Number of valid fresh orange samples : \", len(os.listdir('dataset/valid/freshoranges')))\n",
    "print(\"Number of valid rotten apple samples : \", len(os.listdir('dataset/valid/rottenapples')))\n",
    "print(\"Number of valid rotten banana samples : \", len(os.listdir('dataset/valid/rottenbananas')))\n",
    "print(\"Number of valid rotten orange samples : \", len(os.listdir('dataset/valid/rottenoranges')))\n"
   ]
  },
  {
   "cell_type": "code",
   "execution_count": 13,
   "id": "fixed-governor",
   "metadata": {},
   "outputs": [],
   "source": [
    "train_path = 'dataset/train'\n",
    "valid_path = 'dataset/valid'\n",
    "test_path = 'dataset/test'"
   ]
  },
  {
   "cell_type": "code",
   "execution_count": 24,
   "id": "crude-chair",
   "metadata": {},
   "outputs": [
    {
     "name": "stdout",
     "output_type": "stream",
     "text": [
      "Found 2698 images belonging to 6 classes.\n",
      "Found 600 images belonging to 6 classes.\n",
      "Found 600 images belonging to 6 classes.\n"
     ]
    }
   ],
   "source": [
    "train_batches = ImageDataGenerator( rescale=1.0/255,\n",
    "                    width_shift_range=0.2,\n",
    "                    height_shift_range=0.2,\n",
    "                    shear_range=0.2,\n",
    "                    zoom_range=0.2,\n",
    "                    horizontal_flip=True,\n",
    "                    fill_mode='nearest'\n",
    "                ) \\\n",
    ".flow_from_directory(\n",
    "                    directory=train_path,\n",
    "                    target_size=(150,150),\n",
    "                    batch_size=10,\n",
    "                    class_mode='categorical'\n",
    "                )\n",
    "\n",
    "valid_batches = ImageDataGenerator(rescale=1.0/255) \\\n",
    ".flow_from_directory(\n",
    "                    directory=valid_path,\n",
    "                    target_size=(150,150),\n",
    "                    batch_size=10,\n",
    "                    class_mode='categorical'\n",
    "                )\n",
    "test_batches = ImageDataGenerator(rescale=1.0/255) \\\n",
    ".flow_from_directory(\n",
    "                    directory=valid_path,\n",
    "                    target_size=(150,150),\n",
    "                    batch_size=10,\n",
    "                    class_mode='categorical',\n",
    "                    shuffle= False\n",
    "                )\n"
   ]
  },
  {
   "cell_type": "code",
   "execution_count": 15,
   "id": "adult-protection",
   "metadata": {},
   "outputs": [],
   "source": [
    "model = Sequential([\n",
    "    Conv2D(filters=16,kernel_size=(3,3), activation='relu', input_shape=(150,150,3)),\n",
    "    MaxPool2D(pool_size=(2,2)),\n",
    "    Conv2D(filters=32,kernel_size=(3,3), activation='relu'),\n",
    "    MaxPool2D(pool_size=(2,2)),\n",
    "    Conv2D(filters=64,kernel_size=(3,3), activation='relu'),\n",
    "    MaxPool2D(pool_size=(2,2)),\n",
    "    Dropout(0.2),\n",
    "    Flatten(),\n",
    "    Dense(units=512, activation='relu'),\n",
    "    Dense(units=6, activation='softmax')\n",
    "])"
   ]
  },
  {
   "cell_type": "code",
   "execution_count": 16,
   "id": "mathematical-extent",
   "metadata": {},
   "outputs": [
    {
     "name": "stdout",
     "output_type": "stream",
     "text": [
      "Model: \"sequential\"\n",
      "_________________________________________________________________\n",
      "Layer (type)                 Output Shape              Param #   \n",
      "=================================================================\n",
      "conv2d_4 (Conv2D)            (None, 148, 148, 16)      448       \n",
      "_________________________________________________________________\n",
      "max_pooling2d_3 (MaxPooling2 (None, 74, 74, 16)        0         \n",
      "_________________________________________________________________\n",
      "conv2d_5 (Conv2D)            (None, 72, 72, 32)        4640      \n",
      "_________________________________________________________________\n",
      "max_pooling2d_4 (MaxPooling2 (None, 36, 36, 32)        0         \n",
      "_________________________________________________________________\n",
      "conv2d_6 (Conv2D)            (None, 34, 34, 64)        18496     \n",
      "_________________________________________________________________\n",
      "max_pooling2d_5 (MaxPooling2 (None, 17, 17, 64)        0         \n",
      "_________________________________________________________________\n",
      "dropout (Dropout)            (None, 17, 17, 64)        0         \n",
      "_________________________________________________________________\n",
      "flatten (Flatten)            (None, 18496)             0         \n",
      "_________________________________________________________________\n",
      "dense (Dense)                (None, 512)               9470464   \n",
      "_________________________________________________________________\n",
      "dense_1 (Dense)              (None, 6)                 3078      \n",
      "=================================================================\n",
      "Total params: 9,497,126\n",
      "Trainable params: 9,497,126\n",
      "Non-trainable params: 0\n",
      "_________________________________________________________________\n"
     ]
    }
   ],
   "source": [
    "model.summary()"
   ]
  },
  {
   "cell_type": "code",
   "execution_count": 17,
   "id": "direct-comparative",
   "metadata": {},
   "outputs": [],
   "source": [
    "model.compile(optimizer=RMSprop(learning_rate=0.001),\n",
    "              loss='categorical_crossentropy',\n",
    "              metrics=['accuracy'])"
   ]
  },
  {
   "cell_type": "code",
   "execution_count": 19,
   "id": "cardiac-affiliation",
   "metadata": {},
   "outputs": [
    {
     "name": "stdout",
     "output_type": "stream",
     "text": [
      "Epoch 1/20\n",
      "270/270 - 66s - loss: 0.4320 - accuracy: 0.8643 - val_loss: 1.3749 - val_accuracy: 0.7333\n",
      "Epoch 2/20\n",
      "270/270 - 69s - loss: 0.3982 - accuracy: 0.8732 - val_loss: 0.7017 - val_accuracy: 0.8233\n",
      "Epoch 3/20\n",
      "270/270 - 63s - loss: 0.4025 - accuracy: 0.8703 - val_loss: 0.3403 - val_accuracy: 0.8950\n",
      "Epoch 4/20\n",
      "270/270 - 62s - loss: 0.4046 - accuracy: 0.8781 - val_loss: 0.3997 - val_accuracy: 0.8617\n",
      "Epoch 5/20\n",
      "270/270 - 69s - loss: 0.3830 - accuracy: 0.8910 - val_loss: 0.2368 - val_accuracy: 0.9017\n",
      "Epoch 6/20\n",
      "270/270 - 65s - loss: 0.3562 - accuracy: 0.8807 - val_loss: 0.3331 - val_accuracy: 0.9000\n",
      "Epoch 7/20\n",
      "270/270 - 62s - loss: 0.4058 - accuracy: 0.8714 - val_loss: 0.3345 - val_accuracy: 0.9100\n",
      "Epoch 8/20\n",
      "270/270 - 61s - loss: 0.3749 - accuracy: 0.8895 - val_loss: 0.2627 - val_accuracy: 0.9250\n",
      "Epoch 9/20\n",
      "270/270 - 61s - loss: 0.3780 - accuracy: 0.8933 - val_loss: 0.3360 - val_accuracy: 0.8800\n",
      "Epoch 10/20\n",
      "270/270 - 61s - loss: 0.4023 - accuracy: 0.8795 - val_loss: 0.3453 - val_accuracy: 0.9100\n",
      "Epoch 11/20\n",
      "270/270 - 61s - loss: 0.3921 - accuracy: 0.8944 - val_loss: 0.2688 - val_accuracy: 0.8950\n",
      "Epoch 12/20\n",
      "270/270 - 61s - loss: 0.3638 - accuracy: 0.8981 - val_loss: 0.2594 - val_accuracy: 0.9117\n",
      "Epoch 13/20\n",
      "270/270 - 61s - loss: 0.3542 - accuracy: 0.8858 - val_loss: 0.3977 - val_accuracy: 0.8950\n",
      "Epoch 14/20\n",
      "270/270 - 61s - loss: 0.4066 - accuracy: 0.8884 - val_loss: 0.2452 - val_accuracy: 0.9283\n",
      "Epoch 15/20\n",
      "270/270 - 66s - loss: 0.3936 - accuracy: 0.8947 - val_loss: 0.5576 - val_accuracy: 0.8433\n",
      "Epoch 16/20\n",
      "270/270 - 61s - loss: 0.3666 - accuracy: 0.8847 - val_loss: 0.2128 - val_accuracy: 0.9200\n",
      "Epoch 17/20\n",
      "270/270 - 61s - loss: 0.3606 - accuracy: 0.8940 - val_loss: 0.5721 - val_accuracy: 0.8833\n",
      "Epoch 18/20\n",
      "270/270 - 61s - loss: 0.4199 - accuracy: 0.8892 - val_loss: 0.2399 - val_accuracy: 0.9167\n",
      "Epoch 19/20\n",
      "270/270 - 61s - loss: 0.3953 - accuracy: 0.8914 - val_loss: 0.2191 - val_accuracy: 0.9217\n",
      "Epoch 20/20\n",
      "270/270 - 62s - loss: 0.3980 - accuracy: 0.8925 - val_loss: 0.2136 - val_accuracy: 0.9217\n"
     ]
    }
   ],
   "source": [
    "history = model.fit(x=train_batches,\n",
    "    steps_per_epoch=len(train_batches),\n",
    "    validation_data=valid_batches,\n",
    "    validation_steps=len(valid_batches),\n",
    "    epochs=20,\n",
    "    verbose=2\n",
    ")"
   ]
  },
  {
   "cell_type": "code",
   "execution_count": 20,
   "id": "representative-foundation",
   "metadata": {},
   "outputs": [
    {
     "data": {
      "text/plain": [
       "Text(0.5, 1.0, 'Training and validation loss')"
      ]
     },
     "execution_count": 20,
     "metadata": {},
     "output_type": "execute_result"
    },
    {
     "data": {
      "image/png": "[encoded data removed]",
      "text/plain": [
       "<Figure size 432x288 with 1 Axes>"
      ]
     },
     "metadata": {
      "needs_background": "light"
     },
     "output_type": "display_data"
    },
    {
     "data": {
      "image/png": "[encoded data removed]",
      "text/plain": [
       "<Figure size 432x288 with 1 Axes>"
      ]
     },
     "metadata": {
      "needs_background": "light"
     },
     "output_type": "display_data"
    }
   ],
   "source": [
    "accuracy      = history.history[     'accuracy' ]\n",
    "val_accuracy  = history.history[ 'val_accuracy' ]\n",
    "loss     = history.history[    'loss' ]\n",
    "val_loss = history.history['val_loss' ]\n",
    "epochs   = range(len(accuracy))\n",
    "\n",
    "plt.plot  ( epochs,     accuracy )\n",
    "plt.plot  ( epochs, val_accuracy )\n",
    "plt.title ('Training and validation accuracy')\n",
    "plt.figure()\n",
    "\n",
    "plt.plot  ( epochs,     loss )\n",
    "plt.plot  ( epochs, val_loss )\n",
    "plt.title ('Training and validation loss'   )"
   ]
  },
  {
   "cell_type": "code",
   "execution_count": 21,
   "id": "painful-northeast",
   "metadata": {},
   "outputs": [
    {
     "name": "stderr",
     "output_type": "stream",
     "text": [
      "c:\\users\\mohit\\appdata\\local\\programs\\python\\python38\\lib\\site-packages\\tensorflow\\python\\keras\\engine\\training.py:1877: UserWarning: `Model.evaluate_generator` is deprecated and will be removed in a future version. Please use `Model.evaluate`, which supports generators.\n",
      "  warnings.warn('`Model.evaluate_generator` is deprecated and '\n"
     ]
    },
    {
     "name": "stdout",
     "output_type": "stream",
     "text": [
      "Accuracy of this model is:  0.921999990940094\n"
     ]
    }
   ],
   "source": [
    "result = model.evaluate_generator(valid_batches, 50)\n",
    "print('Accuracy of this model is: ', result[1])"
   ]
  },
  {
   "cell_type": "code",
   "execution_count": 25,
   "id": "illegal-patrick",
   "metadata": {},
   "outputs": [],
   "source": [
    "predictions = model.predict(x=test_batches, steps=len(test_batches), verbose=0)"
   ]
  },
  {
   "cell_type": "code",
   "execution_count": 26,
   "id": "controversial-execution",
   "metadata": {},
   "outputs": [
    {
     "data": {
      "text/plain": [
       "array([[1., 0., 0., 0., 0., 0.],\n",
       "       [1., 0., 0., 0., 0., 0.],\n",
       "       [1., 0., 0., 0., 0., 0.],\n",
       "       ...,\n",
       "       [0., 0., 0., 0., 0., 1.],\n",
       "       [0., 0., 0., 0., 0., 1.],\n",
       "       [0., 0., 0., 0., 0., 1.]], dtype=float32)"
      ]
     },
     "execution_count": 26,
     "metadata": {},
     "output_type": "execute_result"
    }
   ],
   "source": [
    "np.round(predictions)"
   ]
  },
  {
   "cell_type": "code",
   "execution_count": 27,
   "id": "forty-challenge",
   "metadata": {},
   "outputs": [],
   "source": [
    "cm = confusion_matrix(y_true=test_batches.classes, y_pred=np.argmax(predictions, axis=-1))"
   ]
  },
  {
   "cell_type": "code",
   "execution_count": 28,
   "id": "wooden-regression",
   "metadata": {},
   "outputs": [],
   "source": [
    "def plot_confusion_matrix(cm, classes,\n",
    "                          normalize=False,\n",
    "                          title='Confusion matrix',\n",
    "                          cmap=plt.cm.Blues):\n",
    "    \"\"\"\n",
    "    This function prints and plots the confusion matrix.\n",
    "    Normalization can be applied by setting `normalize=True`.\n",
    "    \"\"\"\n",
    "    plt.imshow(cm, interpolation='nearest', cmap=cmap)\n",
    "    plt.title(title)\n",
    "    plt.colorbar()\n",
    "    tick_marks = np.arange(len(classes))\n",
    "    plt.xticks(tick_marks, classes, rotation=45)\n",
    "    plt.yticks(tick_marks, classes)\n",
    "\n",
    "    if normalize:\n",
    "        cm = cm.astype('float') / cm.sum(axis=1)[:, np.newaxis]\n",
    "        print(\"Normalized confusion matrix\")\n",
    "    else:\n",
    "        print('Confusion matrix, without normalization')\n",
    "\n",
    "    print(cm)\n",
    "\n",
    "    thresh = cm.max() / 2.\n",
    "    for i, j in itertools.product(range(cm.shape[0]), range(cm.shape[1])):\n",
    "        plt.text(j, i, cm[i, j],\n",
    "            horizontalalignment=\"center\",\n",
    "            color=\"white\" if cm[i, j] > thresh else \"black\")\n",
    "\n",
    "    plt.tight_layout()\n",
    "    plt.ylabel('True label')\n",
    "    plt.xlabel('Predicted label')"
   ]
  },
  {
   "cell_type": "code",
   "execution_count": 29,
   "id": "fluid-phrase",
   "metadata": {},
   "outputs": [
    {
     "data": {
      "text/plain": [
       "{'freshapples': 0,\n",
       " 'freshbananas': 1,\n",
       " 'freshoranges': 2,\n",
       " 'rottenapples': 3,\n",
       " 'rottenbananas': 4,\n",
       " 'rottenoranges': 5}"
      ]
     },
     "execution_count": 29,
     "metadata": {},
     "output_type": "execute_result"
    }
   ],
   "source": [
    "test_batches.class_indices"
   ]
  },
  {
   "cell_type": "code",
   "execution_count": 30,
   "id": "sought-ridge",
   "metadata": {},
   "outputs": [
    {
     "name": "stdout",
     "output_type": "stream",
     "text": [
      "Confusion matrix, without normalization\n",
      "[[98  0  0  2  0  0]\n",
      " [ 0 98  1  1  0  0]\n",
      " [ 1  0 97  0  0  2]\n",
      " [ 8  0  7 75  0 10]\n",
      " [ 0  0  0  0 97  3]\n",
      " [ 0  0  7  5  0 88]]\n"
     ]
    },
    {
     "data": {
      "image/png": "[encoded data removed]",
      "text/plain": [
       "<Figure size 432x288 with 2 Axes>"
      ]
     },
     "metadata": {
      "needs_background": "light"
     },
     "output_type": "display_data"
    }
   ],
   "source": [
    "cm_plot_labels = ['FreshApples','FreshBananas','FreshOranges','RottenApples','RottenBananas','RottenOranges']\n",
    "plot_confusion_matrix(cm=cm, classes=cm_plot_labels, title='Confusion Matrix')"
   ]
  },
  {
   "cell_type": "code",
   "execution_count": 31,
   "id": "mediterranean-local",
   "metadata": {},
   "outputs": [
    {
     "name": "stdout",
     "output_type": "stream",
     "text": [
      "INFO:tensorflow:Assets written to: fruit-ripeness-detection-model_improved\\2\\assets\n"
     ]
    }
   ],
   "source": [
    "model_version = \"2\"\n",
    "model_name = \"fruit-ripeness-detection-model_improved\"\n",
    "model_path = os.path.join(model_name, model_version)\n",
    "tf.saved_model.save(model, model_path)"
   ]
  },
  {
   "cell_type": "code",
   "execution_count": 34,
   "id": "related-trust",
   "metadata": {},
   "outputs": [],
   "source": [
    "model.save(\"fruit-ripeness-detection-model_improved.h5\")"
   ]
  },
  {
   "cell_type": "code",
   "execution_count": 35,
   "id": "systematic-sleeve",
   "metadata": {},
   "outputs": [
    {
     "data": {
      "text/plain": [
       "'D:\\\\DeepLearning\\\\Models\\\\fruit-ripeness-detection-model_improved.zip'"
      ]
     },
     "execution_count": 35,
     "metadata": {},
     "output_type": "execute_result"
    }
   ],
   "source": [
    "shutil.make_archive('fruit-ripeness-detection-model_improved', 'zip', 'fruit-ripeness-detection-model_improved')"
   ]
  },
  {
   "cell_type": "code",
   "execution_count": null,
   "id": "accompanied-dining",
   "metadata": {},
   "outputs": [],
   "source": []
  }
 ],
 "metadata": {
  "kernelspec": {
   "display_name": "Python 3",
   "language": "python",
   "name": "python3"
  },
  "language_info": {
   "codemirror_mode": {
    "name": "ipython",
    "version": 3
   },
   "file_extension": ".py",
   "mimetype": "text/x-python",
   "name": "python",
   "nbconvert_exporter": "python",
   "pygments_lexer": "ipython3",
   "version": "3.8.7"
  }
 },
 "nbformat": 4,
 "nbformat_minor": 5
}
